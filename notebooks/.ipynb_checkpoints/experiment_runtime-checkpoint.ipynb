{
 "cells": [
  {
   "cell_type": "markdown",
   "id": "e54a76ad",
   "metadata": {},
   "source": [
    "#### Generate random DAGs of increasing size, run the identification finder and time how long it takes."
   ]
  },
  {
   "cell_type": "code",
   "execution_count": null,
   "id": "5d1e49cb",
   "metadata": {},
   "outputs": [],
   "source": [
    "import sys\n",
    "import random\n",
    "import time\n",
    "\n",
    "sys.path.append(\"../src\")\n",
    "\n",
    "from identification_strategy_finder import AdjustmentSetFinder"
   ]
  },
  {
   "cell_type": "markdown",
   "id": "d9388a4f",
   "metadata": {},
   "source": [
    "#### Helpers"
   ]
  },
  {
   "cell_type": "code",
   "execution_count": null,
   "id": "6f1cefbd",
   "metadata": {},
   "outputs": [],
   "source": [
    "def generate_random_dag(num_nodes):\n",
    "    \"\"\" \n",
    "    Generates a random DAG of a given size\n",
    "    \"\"\"\n",
    "    G = nx.DiGraph()\n",
    "    nodes = list(range(num_nodes))\n",
    "    random.shuffle(nodes)\n",
    "    \n",
    "    for i in range(num_nodes):\n",
    "        for j in range(i + 1, num_nodes):\n",
    "            if random.choice([True, False]):\n",
    "                G.add_edge(nodes[i], nodes[j])\n",
    "    return G\n",
    "\n",
    "def pick_random_nodes(G, num_hidden=1):\n",
    "    \"\"\"\n",
    "    Picks a random X node, a random Y node and a random hidden node from a DAG\n",
    "    \"\"\"\n",
    "    nodes = list(G.nodes)\n",
    "    X = {random.choice(nodes)}\n",
    "    Y = random.choice(nodes)\n",
    "    while Y in X:\n",
    "        Y = random.choice(nodes)\n",
    "    \n",
    "    hidden_nodes = set()\n",
    "    for _ in range(num_hidden):\n",
    "        hidden_node = random.choice(nodes)\n",
    "        while hidden_node in X or hidden_node == Y or hidden_node in hidden_nodes:\n",
    "            hidden_node = random.choice(nodes)\n",
    "        hidden_nodes.add(hidden_node)\n",
    "    \n",
    "    return X, Y, hidden_nodes\n",
    "\n",
    "def analyze_graph(G, X, Y, hidden_nodes):\n",
    "    \"\"\"\n",
    "    Runs the enumeration algorithm on a given DAG for an X,Y and hidden node\n",
    "    \"\"\"\n",
    "    finder = AdjustmentSetFinder(G, X, Y, hidden_nodes, \"total\", False)\n",
    "    id_strats = finder.find_adjustment_sets_nuisance()\n",
    "    return id_strats"
   ]
  },
  {
   "cell_type": "markdown",
   "id": "753b28e5",
   "metadata": {},
   "source": [
    "#### Run the simulation and save to pickle file\n",
    "Can easily parallelize if desired."
   ]
  },
  {
   "cell_type": "code",
   "execution_count": null,
   "id": "39108491",
   "metadata": {},
   "outputs": [],
   "source": [
    "min_nodes = 5\n",
    "max_nodes = 15\n",
    "number_dags = 100\n",
    "\n",
    "results = []\n",
    "for num_nodes in range(min_nodes, max_nodes+1):\n",
    "    times = []\n",
    "    for _ in range(number_dags):\n",
    "        G = generate_random_dag(num_nodes)\n",
    "        X, Y, hidden_nodes = pick_random_nodes(G, num_hidden=1 if num_nodes > 2 else 0)\n",
    "        \n",
    "        start_time = time.time()\n",
    "        try:\n",
    "            analyze_graph(G, X, Y, hidden_nodes)\n",
    "        except AssertionError as e:\n",
    "            print(e)\n",
    "            continue\n",
    "        end_time = time.time()\n",
    "        times.append(end_time - start_time)\n",
    "    \n",
    "    for t in times:\n",
    "        results.append((num_nodes, t))\n",
    "\n",
    "df_results = pd.DataFrame(results, columns=[\"Number of Nodes\", \"Time (s)\"])\n",
    "df_results.to_pickle(\"./results/dag_analysis_times.pkl\")"
   ]
  },
  {
   "cell_type": "markdown",
   "id": "2c275596",
   "metadata": {},
   "source": [
    "#### Plot"
   ]
  },
  {
   "cell_type": "code",
   "execution_count": null,
   "id": "4c02c1d0",
   "metadata": {},
   "outputs": [],
   "source": [
    "plt.rcParams.update({\n",
    "    \"text.usetex\": True,\n",
    "    \"font.family\": \"serif\",\n",
    "    \"font.serif\": [\"Computer Modern Roman\"],\n",
    "    \"text.latex.preamble\": r\"\\usepackage{amsmath}\\usepackage{amssymb}\",\n",
    "    \"axes.labelsize\": 22,     \n",
    "    \"xtick.labelsize\": 16,    \n",
    "    \"ytick.labelsize\": 18,    \n",
    "    \"legend.fontsize\": 14,    \n",
    "    \"figure.titlesize\": 22,   \n",
    "    \"axes.titlesize\": 22,\n",
    "    \"legend.title_fontsize\": 18\n",
    "})\n",
    "\n",
    "palette = sns.color_palette(\"Paired\", 12)\n",
    "mean_color = palette[1]  \n",
    "error_bar_color = palette[3]\n",
    "\n",
    "grouped = df_results.groupby(\"Number of Nodes\")[\"Time (s)\"]\n",
    "means = grouped.mean()\n",
    "stds = grouped.std()\n",
    "n = grouped.count()\n",
    "stderr = stds / np.sqrt(n)\n",
    "\n",
    "confidence_interval = 1.96 * stderr\n",
    "lower_bounds = means - confidence_interval\n",
    "upper_bounds = means + confidence_interval\n",
    "\n",
    "plt.figure(figsize=(12, 8))\n",
    "plt.errorbar(means.index, means, \n",
    "             yerr=[means - lower_bounds, upper_bounds - means], \n",
    "             fmt=\"o\", capsize=5, ecolor=error_bar_color, color=mean_color)\n",
    "plt.scatter(means.index, means, color=mean_color, zorder=5)\n",
    "\n",
    "plt.xlabel(\"Number of Nodes\")\n",
    "plt.ylabel(\"Seconds\")\n",
    "plt.grid(True)\n",
    "plt.savefig(\"./plots/execution_time_plot.svg\", format=\"svg\")\n",
    "plt.show()"
   ]
  }
 ],
 "metadata": {
  "kernelspec": {
   "display_name": "Python 3 (ipykernel)",
   "language": "python",
   "name": "python3"
  },
  "language_info": {
   "codemirror_mode": {
    "name": "ipython",
    "version": 3
   },
   "file_extension": ".py",
   "mimetype": "text/x-python",
   "name": "python",
   "nbconvert_exporter": "python",
   "pygments_lexer": "ipython3",
   "version": "3.9.13"
  }
 },
 "nbformat": 4,
 "nbformat_minor": 5
}
